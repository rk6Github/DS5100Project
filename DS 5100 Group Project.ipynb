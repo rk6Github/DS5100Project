{
 "cells": [
  {
   "cell_type": "code",
   "execution_count": 1,
   "metadata": {},
   "outputs": [],
   "source": [
    "#Keenan Kunc, Brian Chae, June Suh, Christian Prosser\n",
    "#Importing necessary packages\n",
    "import pandas as pd\n",
    "import numpy as np\n",
    "import seaborn as sns\n",
    "import matplotlib.pyplot as plt\n",
    "import unittest"
   ]
  },
  {
   "cell_type": "code",
   "execution_count": 2,
   "metadata": {},
   "outputs": [
    {
     "name": "stdout",
     "output_type": "stream",
     "text": [
      "   battery_power  blue  clock_speed  dual_sim  fc  four_g  int_memory  m_dep  \\\n",
      "0            842     0          2.2         0   1       0           7    0.6   \n",
      "1           1021     1          0.5         1   0       1          53    0.7   \n",
      "2            563     1          0.5         1   2       1          41    0.9   \n",
      "3            615     1          2.5         0   0       0          10    0.8   \n",
      "4           1821     1          1.2         0  13       1          44    0.6   \n",
      "\n",
      "   mobile_wt  n_cores  ...  px_height  px_width   ram  sc_h  sc_w  talk_time  \\\n",
      "0        188        2  ...         20       756  2549     9     7         19   \n",
      "1        136        3  ...        905      1988  2631    17     3          7   \n",
      "2        145        5  ...       1263      1716  2603    11     2          9   \n",
      "3        131        6  ...       1216      1786  2769    16     8         11   \n",
      "4        141        2  ...       1208      1212  1411     8     2         15   \n",
      "\n",
      "   three_g  touch_screen  wifi  price_range  \n",
      "0        0             0     1            1  \n",
      "1        1             1     0            2  \n",
      "2        1             1     0            2  \n",
      "3        1             0     0            2  \n",
      "4        1             1     0            1  \n",
      "\n",
      "[5 rows x 21 columns]\n",
      "Index(['battery_power', 'blue', 'clock_speed', 'dual_sim', 'fc', 'four_g',\n",
      "       'int_memory', 'm_dep', 'mobile_wt', 'n_cores', 'pc', 'px_height',\n",
      "       'px_width', 'ram', 'sc_h', 'sc_w', 'talk_time', 'three_g',\n",
      "       'touch_screen', 'wifi', 'price_range'],\n",
      "      dtype='object')\n"
     ]
    }
   ],
   "source": [
    "#Dataset\n",
    "mobile = pd.read_csv('mobile_prices.csv')\n",
    "print(mobile.head())\n",
    "print(mobile.columns)\n",
    "\n",
    "#Question of interest:\n",
    "#How do real-world examples of phones from 2018 or earlier compare with this dataset in terms of features and prices?"
   ]
  },
  {
   "cell_type": "code",
   "execution_count": 3,
   "metadata": {},
   "outputs": [],
   "source": [
    "#8 real-world phones from 2018 or earlier--information is listed and converted into a DataFrame\n",
    "iphoneX_2017 = pd.Series([2716, 1, 2.39, 1, 7, 1, 64, 0.77, 174, 6, 12, 1125, 2436, 3000,\\\n",
    "                                    14.35, 7.09, 21, 1, 1, 1, 3])\n",
    "samsung_galaxy_a8_2018 = pd.Series([3000, 1, 2.2, 1, 16, 1, 32, 0.84, 172, 8, 16, 1080, 2220, 4000,\\\n",
    "                                    14.22, 6.86, 24, 1, 1, 1, 3])\n",
    "google_pixel_2_2017 = pd.Series([2700, 1, 2.35, 0, 8, 1, 64, 0.78, 143, 8, 12.2, 1080, 1920, 4000,\\\n",
    "                                    12.7, 5.43, 25, 1, 1, 1, 2])\n",
    "lg_g6_2017 = pd.Series([3300, 1, 2.35, 1, 5, 1, 32, 0.79, 163, 4, 13, 1440, 2880, 4000,\\\n",
    "                                    14.48, 5.81, 23, 1, 1, 1, 2])\n",
    "iphone6_2014 = pd.Series([1810, 1, 1.4, 0, 1.2, 1, 16, 0.69, 129, 2, 8, 750, 1334, 1000,\\\n",
    "                                    11.94, 5.10, 14, 1, 1, 1, 1])\n",
    "motorola_droid_2014 = pd.Series([3900, 1, 2.7, 0, 2, 1, 32, 0.83, 169, 4, 21, 1440, 2560, 3000,\\\n",
    "                                    13.21, 5.64, 34, 1, 1, 1, 1])\n",
    "nokia_x6_2010 = pd.Series([1320, 1, 0.4, 0, 0, 0, 16, 1.4, 122, 1, 5, 360, 640, 128,\\\n",
    "                                    8.13, 3.47, 11, 1, 1, 1, 0])\n",
    "blackberry_curve_9360_2011 = pd.Series([1000, 1, 0.8, 0, 0, 0, 0.5, 1.1, 99, 1, 5, 480, 360, 512,\\\n",
    "                                    2.97, 6.20, 5, 1, 0, 1, 0])\n",
    "\n",
    "iphoneX_df = iphoneX_2017.to_frame().T\n",
    "samsung_galaxy_df = samsung_galaxy_a8_2018.to_frame().T\n",
    "google_pixel_2_df = google_pixel_2_2017.to_frame().T\n",
    "lg_g6_df = lg_g6_2017.to_frame().T\n",
    "iphone6_df = iphone6_2014.to_frame().T\n",
    "motorola_droid_df = motorola_droid_2014.to_frame().T\n",
    "nokia_x6_df = nokia_x6_2010.to_frame().T\n",
    "blackberry_curve_9360_df = blackberry_curve_9360_2011.to_frame().T\n",
    "\n",
    "real_phones = pd.concat([iphoneX_df, samsung_galaxy_df, google_pixel_2_df, lg_g6_df, iphone6_df, motorola_droid_df,\\\n",
    "                        nokia_x6_df, blackberry_curve_9360_df])\n",
    "real_phones.reset_index(inplace=True, drop = True)\n",
    "real_phones.columns = ['battery_power', 'blue', 'clock_speed', 'dual_sim', 'fc', 'four_g', 'int_memory', 'm_dep',\\\n",
    "                       'mobile_wt', 'n_cores', 'pc', 'px_height', 'px_width', 'ram', 'sc_h', 'sc_w', 'talk_time',\\\n",
    "                       'three_g', 'touch_screen', 'wifi', 'price_range']"
   ]
  },
  {
   "cell_type": "code",
   "execution_count": 5,
   "metadata": {},
   "outputs": [
    {
     "name": "stdout",
     "output_type": "stream",
     "text": [
      "Phone Feature: \t Dataset Means:  Real Phone Means:\n",
      "battery_power \t 1238.5185 \t 2468.25\n",
      "blue \t \t 0.495 \t \t 1.0\n",
      "clock_speed \t 1.52225 \t 1.82375\n",
      "dual_sim \t 0.5095 \t 0.375\n",
      "fc \t \t 4.3095 \t 4.9\n",
      "four_g \t \t 0.5215 \t 0.75\n",
      "int_memory \t 32.0465 \t 32.0625\n",
      "m_dep \t \t 0.50175 \t 0.9\n",
      "mobile_wt \t 140.249 \t 146.375\n",
      "n_cores \t 4.5205 \t 4.25\n",
      "pc \t \t 9.9165 \t 11.525\n",
      "px_height \t 645.108 \t 969.375\n",
      "px_width \t 1251.5155 \t 1793.75\n",
      "ram \t \t 2124.213 \t 2455.0\n",
      "sc_h \t \t 12.3065 \t 11.5\n",
      "sc_w \t \t 5.767 \t \t 5.7\n",
      "talk_time \t 11.011 \t 19.625\n",
      "three_g \t 0.7615 \t 1.0\n",
      "touch_screen \t 0.503 \t \t 0.875\n",
      "wifi \t \t 0.507 \t \t 1.0\n",
      "price_range \t 1.5 \t \t 1.5\n"
     ]
    }
   ],
   "source": [
    "#Summary information grouped by column\n",
    "for i in range(-1, 21):\n",
    "    if i == -1:\n",
    "        print(\"Phone Feature:\", \"\\t\", \"Dataset Means: \", \"Real Phone Means:\")\n",
    "    elif (len(mobile.columns[i]) > 6) & (len(str(round(mobile.iloc[:,i].mean(),5))) > 5):\n",
    "        print(mobile.columns[i], \"\\t\", round(mobile.iloc[:,i].mean(),5), \"\\t\", round(real_phones.iloc[:,i].mean(),5))\n",
    "    elif (len(mobile.columns[i]) > 6) & (len(str(round(mobile.iloc[:,i].mean(),5))) <= 5):\n",
    "        print(mobile.columns[i], \"\\t\", round(mobile.iloc[:,i].mean(),5), \"\\t\",\"\\t\", round(real_phones.iloc[:,i].mean(),5))\n",
    "    elif (len(mobile.columns[i]) <= 6) & (len(str(round(mobile.iloc[:,i].mean(),5))) > 5):\n",
    "        print(mobile.columns[i], \"\\t\",\"\\t\", round(mobile.iloc[:,i].mean(),5), \"\\t\", round(real_phones.iloc[:,i].mean(),5))\n",
    "    else:\n",
    "        print(mobile.columns[i],\"\\t\",\"\\t\",round(mobile.iloc[:,i].mean(),5),\"\\t\",\"\\t\",round(real_phones.iloc[:,i].mean(),5))\n",
    "        \n",
    "#Here, I used a for loop to iterate through the 21 columns of my dataframes. I used if and elif statements to format\n",
    "#the printing so that the final output would be more readable. The final output includes the name of the phone feature,\n",
    "#the mean of that feature from the dataset, and the mean of that feature from the sample of real-world phones. Based on\n",
    "#this data, many of the averages are similar when comparing dataset phones to real-world phones, but the variables\n",
    "#battery_power, blue, talk_time, and wifi may warrant further investigation."
   ]
  },
  {
   "cell_type": "code",
   "execution_count": 6,
   "metadata": {},
   "outputs": [
    {
     "data": {
      "image/png": "[encoded data removed]",
      "text/plain": [
       "<Figure size 432x288 with 1 Axes>"
      ]
     },
     "metadata": {
      "needs_background": "light"
     },
     "output_type": "display_data"
    },
    {
     "data": {
      "image/png": "[encoded data removed]",
      "text/plain": [
       "<Figure size 432x288 with 1 Axes>"
      ]
     },
     "metadata": {
      "needs_background": "light"
     },
     "output_type": "display_data"
    },
    {
     "data": {
      "image/png": "[encoded data removed]",
      "text/plain": [
       "<Figure size 432x288 with 1 Axes>"
      ]
     },
     "metadata": {
      "needs_background": "light"
     },
     "output_type": "display_data"
    }
   ],
   "source": [
    "#Visualizations for binary variables\n",
    "ax = sns.countplot(x=mobile.wifi)\n",
    "ax.set(title = \"Bar Chart of Wi-Fi for Dataset Phones\", xlabel = \"Wi-Fi\")\n",
    "plt.show() #Only about half of dataset phones have Wi-Fi capability--this is surprisingly low, as even poor-quality/old\n",
    "#real-world phones have Wi-Fi capability\n",
    "\n",
    "ax2 = sns.countplot(x=mobile.blue)\n",
    "ax2.set(title = \"Bar Chart of Bluetooth for Dataset Phones\", xlabel = \"Bluetooth\")\n",
    "plt.show() #Similarly, only about half of dataset phones have Bluetooth capability--all 8 of the real-world phones had \n",
    "#Bluetooth capability\n",
    "\n",
    "ax3 = sns.countplot(x=mobile.three_g)\n",
    "ax3.set(title = \"Bar Chart of 3G for Dataset Phones\", xlabel = \"3G\")\n",
    "plt.show() #About a quarter of dataset phones did not have 3G capability, whereas all 8 of the real-world phones had 3G"
   ]
  },
  {
   "cell_type": "code",
   "execution_count": 7,
   "metadata": {},
   "outputs": [
    {
     "name": "stdout",
     "output_type": "stream",
     "text": [
      "Dataset phones:\n",
      "Best RAM: 3998\n",
      "Worst RAM: 256\n",
      "Median RAM: 2146.5\n",
      "Best Memory: 64\n",
      "Worst Memory: 2\n",
      "Median Memory: 32.0\n",
      " \n",
      "Real phones:\n",
      "Best RAM: 4000.0\n",
      "Worst RAM: 128.0\n",
      "Best Memory: 64.0\n",
      "Worst Memory: 0.5\n"
     ]
    }
   ],
   "source": [
    "#Analysis to determine what memory capabilities the best and worst phones in the dataset have\n",
    "print(\"Dataset phones:\")\n",
    "print(\"Best RAM:\", str(np.max(mobile.ram))) #Best RAM is 3,998 MB ~ 4 GB, similar to Samsung Galaxy A8\n",
    "print(\"Worst RAM:\", str(np.min(mobile.ram))) #Worst RAM is 256 MB\n",
    "print(\"Median RAM:\", str(np.median(mobile.ram)))\n",
    "print(\"Best Memory:\", str(np.max(mobile.int_memory))) #Best memory is 64 GB, which is same as iPhone X, Google Pixel 2\n",
    "print(\"Worst Memory:\", str(np.min(mobile.int_memory))) #Worst memory is 2 GB\n",
    "print(\"Median Memory:\", str(np.median(mobile.int_memory)))\n",
    "\n",
    "print(\" \")\n",
    "print(\"Real phones:\")\n",
    "print(\"Best RAM:\", str(np.max(real_phones.ram)))\n",
    "print(\"Worst RAM:\", str(np.min(real_phones.ram)))\n",
    "print(\"Best Memory:\", str(np.max(real_phones.int_memory)))\n",
    "print(\"Worst Memory:\", str(np.min(real_phones.int_memory)))\n",
    "\n",
    "#In terms of memory, the real phones are comparable to the data set. The maximum memory and RAM are similar. The Nokia X6\n",
    "#has worse RAM than the minimun RAM of our dataset, and the Blackberry Curve 9360 has worse internal memory than any of the\n",
    "#phones in our dataset."
   ]
  },
  {
   "cell_type": "code",
   "execution_count": 8,
   "metadata": {},
   "outputs": [
    {
     "name": "stdout",
     "output_type": "stream",
     "text": [
      "Dataset phones:\n",
      "Best Battery Power: 1998\n",
      "Worst Battery Power: 501\n",
      "Median Battery Power: 1226.0\n",
      "Best Talk Time: 20\n",
      "Worst Talk Time: 2\n",
      "Median Talk Time: 11.0\n",
      " \n",
      "Real phones:\n",
      "Best Battery Power: 3900.0\n",
      "Worst Battery Power: 1000.0\n",
      "Median Battery Power: 2708.0\n",
      "Best Talk Time: 34.0\n",
      "Worst Talk Time: 5.0\n",
      "Median Talk Time: 22.0\n"
     ]
    }
   ],
   "source": [
    "#Battery performance of phones from dataset vs. real-life phones\n",
    "print(\"Dataset phones:\")\n",
    "print(\"Best Battery Power:\", str(np.max(mobile.battery_power))) #Best battery power is 1998 mAh\n",
    "print(\"Worst Battery Power:\", str(np.min(mobile.battery_power))) #Worst battery power is 501 mAh\n",
    "print(\"Median Battery Power:\", str(np.median(mobile.battery_power)))\n",
    "print(\"Best Talk Time:\", str(np.max(mobile.talk_time)))\n",
    "print(\"Worst Talk Time:\", str(np.min(mobile.talk_time))) #Worst talk time is 2 hours--this is poor for a cell phone\n",
    "print(\"Median Talk Time:\", str(np.median(mobile.talk_time)))\n",
    "print(\" \")\n",
    "print(\"Real phones:\")\n",
    "print(\"Best Battery Power:\", str(np.max(real_phones.battery_power)))\n",
    "print(\"Worst Battery Power:\", str(np.min(real_phones.battery_power)))\n",
    "print(\"Median Battery Power:\", str(np.median(real_phones.battery_power)))\n",
    "print(\"Best Talk Time:\", str(np.max(real_phones.talk_time)))\n",
    "print(\"Worst Talk Time:\", str(np.min(real_phones.talk_time)))\n",
    "print(\"Median Talk Time:\", str(np.median(real_phones.talk_time)))\n",
    "\n",
    "#Based on this information, it appears that real-world phones have better battery performance than the phones in the\n",
    "#dataset. The median battery power in our dataset is close to the worst battery power from the sample of real-world phones.\n",
    "#There are only 8 real phones in our sample, but the median battery power and talk time from the real-world phones both\n",
    "#exceed the corresponding maximum values from our dataset."
   ]
  },
  {
   "cell_type": "code",
   "execution_count": 9,
   "metadata": {},
   "outputs": [
    {
     "data": {
      "image/png": "[encoded data removed]",
      "text/plain": [
       "<Figure size 432x288 with 1 Axes>"
      ]
     },
     "metadata": {
      "needs_background": "light"
     },
     "output_type": "display_data"
    },
    {
     "data": {
      "image/png": "[encoded data removed]",
      "text/plain": [
       "<Figure size 432x288 with 1 Axes>"
      ]
     },
     "metadata": {
      "needs_background": "light"
     },
     "output_type": "display_data"
    },
    {
     "data": {
      "image/png": "[encoded data removed]",
      "text/plain": [
       "<Figure size 432x288 with 1 Axes>"
      ]
     },
     "metadata": {
      "needs_background": "light"
     },
     "output_type": "display_data"
    },
    {
     "data": {
      "image/png": "[encoded data removed]",
      "text/plain": [
       "<Figure size 432x288 with 1 Axes>"
      ]
     },
     "metadata": {
      "needs_background": "light"
     },
     "output_type": "display_data"
    }
   ],
   "source": [
    "ax4 = sns.boxplot(x=mobile.battery_power)\n",
    "ax4.set(title = \"Boxplot of Battery Power for Dataset Phones\", xlabel = \"Battery Power (mAh)\")\n",
    "plt.xlim(0,4000)\n",
    "plt.show()\n",
    "\n",
    "ax5 = sns.boxplot(x=real_phones.battery_power, color = \"green\")\n",
    "ax5.set(title = \"Boxplot of Battery Power for Real Phones\", xlabel = \"Battery Power (mAh)\")\n",
    "plt.xlim(0,4000)\n",
    "plt.show()\n",
    "\n",
    "ax6 = sns.boxplot(x=mobile.talk_time, color = \"orange\")\n",
    "ax6.set(title = \"Boxplot of Talk Time for Dataset Phones\", xlabel = \"Talk Time (Hours)\")\n",
    "plt.xlim(0,35)\n",
    "plt.show()\n",
    "\n",
    "ax7 = sns.boxplot(x=real_phones.talk_time, color = \"red\")\n",
    "ax7.set(title = \"Boxplot of Talk Time for Real Phones\", xlabel = \"Talk Time (Hours)\")\n",
    "plt.xlim(0,35)\n",
    "plt.show()\n",
    "\n",
    "#The battery powers of our dataset are roughly uniformly distributed, so it is surprising to see how low the values are\n",
    "#compared to the real-world phones. Similarly, the distribution of talk time has values lower than we would expect based\n",
    "#on the real-world phones."
   ]
  },
  {
   "cell_type": "code",
   "execution_count": 10,
   "metadata": {},
   "outputs": [
    {
     "name": "stdout",
     "output_type": "stream",
     "text": [
      "Dataset phones:\n",
      "Best Clock Speed: 3.0\n",
      "Worst Clock Speed: 0.5\n",
      "Median Clock Speed: 1.5\n",
      "Most CPU Cores: 8\n",
      "Fewest CPU Cores: 1\n",
      "Median CPU Cores: 4.0\n",
      " \n",
      "Real phones:\n",
      "Best Clock Speed: 2.7\n",
      "Worst Clock Speed: 0.4\n",
      "Most CPU Cores: 8.0\n",
      "Fewest CPU Cores: 1.0\n"
     ]
    }
   ],
   "source": [
    "#Computing speed (clock speed and cores):\n",
    "print(\"Dataset phones:\")\n",
    "print(\"Best Clock Speed:\", str(np.max(mobile.clock_speed)))\n",
    "print(\"Worst Clock Speed:\", str(np.min(mobile.clock_speed)))\n",
    "print(\"Median Clock Speed:\", str(np.median(mobile.clock_speed)))\n",
    "print(\"Most CPU Cores:\", str(np.max(mobile.n_cores)))\n",
    "print(\"Fewest CPU Cores:\", str(np.min(mobile.n_cores)))\n",
    "print(\"Median CPU Cores:\", str(np.median(mobile.n_cores)))\n",
    "print(\" \")\n",
    "print(\"Real phones:\")\n",
    "print(\"Best Clock Speed:\", str(np.max(real_phones.clock_speed)))\n",
    "print(\"Worst Clock Speed:\", str(np.min(real_phones.clock_speed)))\n",
    "print(\"Most CPU Cores:\", str(np.max(real_phones.n_cores)))\n",
    "print(\"Fewest CPU Cores:\", str(np.min(real_phones.n_cores)))\n",
    "\n",
    "#The dataset phones and real-world phones have similar numbers in terms of computing speed."
   ]
  },
  {
   "cell_type": "code",
   "execution_count": 11,
   "metadata": {},
   "outputs": [
    {
     "name": "stdout",
     "output_type": "stream",
     "text": [
      "Dataset phones:\n",
      "Best Front Camera: 19\n",
      "Worst Front Camera: 0\n",
      "Median Front Camera: 3.0\n",
      "Best Primary Camera: 20\n",
      "Worst Primary Camera: 0\n",
      "Median Primary Camera: 10.0\n",
      " \n",
      "Real phones:\n",
      "Best Front Camera: 16.0\n",
      "Worst Front Camera: 0.0\n",
      "Best Primary Camera: 21.0\n",
      "Worst Primary Camera: 5.0\n"
     ]
    }
   ],
   "source": [
    "#Camera quality:\n",
    "print(\"Dataset phones:\")\n",
    "print(\"Best Front Camera:\", str(np.max(mobile.fc)))\n",
    "print(\"Worst Front Camera:\", str(np.min(mobile.fc)))\n",
    "print(\"Median Front Camera:\", str(np.median(mobile.fc)))\n",
    "print(\"Best Primary Camera:\", str(np.max(mobile.pc)))\n",
    "print(\"Worst Primary Camera:\", str(np.min(mobile.pc)))\n",
    "print(\"Median Primary Camera:\", str(np.median(mobile.pc)))\n",
    "print(\" \")\n",
    "print(\"Real phones:\")\n",
    "print(\"Best Front Camera:\", str(np.max(real_phones.fc)))\n",
    "print(\"Worst Front Camera:\", str(np.min(real_phones.fc)))\n",
    "print(\"Best Primary Camera:\", str(np.max(real_phones.pc)))\n",
    "print(\"Worst Primary Camera:\", str(np.min(real_phones.pc)))\n",
    "\n",
    "#The dataset phones and real-world phones have fairly similar numbers when comparing megapixels in the front cameras\n",
    "#and primary cameras."
   ]
  },
  {
   "cell_type": "code",
   "execution_count": 23,
   "metadata": {},
   "outputs": [
    {
     "name": "stdout",
     "output_type": "stream",
     "text": [
      "19.9\n",
      "43.2\n"
     ]
    }
   ],
   "source": [
    "#Creating phone class\n",
    "class phone:\n",
    "    #constructor\n",
    "    def __init__(self, name, year, comp_data, battery_power=0, ram=0):\n",
    "        self.name = name\n",
    "        self.year = year\n",
    "        self.comp_data = comp_data\n",
    "        self.battery_power = battery_power\n",
    "        self.ram = ram\n",
    "    def identity(self): #Provides description of phone name and year\n",
    "        return(\"This phone is the \" + str(self.name) + \", made in \" + str(self.year) + \".\")\n",
    "    def battery_percentile(self): #Provides percent of phones in comp_data with lower battery power\n",
    "        return(\"This phone has higher battery power than \" + str(round(self.comp_data[self.comp_data.battery_power < \\\n",
    "            self.battery_power].shape[0]/self.comp_data.shape[0] * 100, 1)) + \"% of phones in your dataset.\")\n",
    "    def ram_percentile(self): #Provides percent of phones in comp_data with lower RAM\n",
    "        return(\"This phone has higher RAM than \" + str(round(self.comp_data[self.comp_data.ram <= \\\n",
    "            self.ram].shape[0]/self.comp_data.shape[0] * 100, 1)) + \"% of phones in your dataset.\")\n",
    "\n",
    "print(round(mobile[mobile.ram <= 1000].shape[0]/mobile.shape[0] * 100, 1))\n",
    "print(round(mobile[mobile.battery_power < 1130].shape[0]/mobile.shape[0] * 100, 1))"
   ]
  },
  {
   "cell_type": "code",
   "execution_count": 25,
   "metadata": {},
   "outputs": [
    {
     "name": "stderr",
     "output_type": "stream",
     "text": [
      "test_battery_percentile (__main__.phoneTestSuite) ... ok\n",
      "test_identity (__main__.phoneTestSuite) ... ok\n",
      "test_ram_percentile (__main__.phoneTestSuite) ... ok\n",
      "test_ram_percentile2 (__main__.phoneTestSuite) ... ok\n",
      "\n",
      "----------------------------------------------------------------------\n",
      "Ran 4 tests in 0.010s\n",
      "\n",
      "OK\n"
     ]
    },
    {
     "data": {
      "text/plain": [
       "<unittest.main.TestProgram at 0x20da9a20d30>"
      ]
     },
     "execution_count": 25,
     "metadata": {},
     "output_type": "execute_result"
    }
   ],
   "source": [
    "#Unit testing class\n",
    "class phoneTestSuite(unittest.TestCase):     \n",
    "    #Create a phone\n",
    "    phone1 = phone(\"iPhone 5\", 2012, mobile, battery_power = 1440, ram = 1000)\n",
    "    phone2 = phone(\"Motorola FlipOut\", 2010, mobile, battery_power = 1130)\n",
    "    def test_identity(self):\n",
    "        expected_id = \"This phone is the iPhone 5, made in 2012.\" #This is expected output of identity function\n",
    "        self.assertEqual(self.phone1.identity(), expected_id)\n",
    "    def test_battery_percentile(self): #Tests battery_percentile() function\n",
    "        expected_bat_perc = \"This phone has higher battery power than 43.2% of phones in your dataset.\" #Expected output\n",
    "        self.assertEqual(self.phone2.battery_percentile(), expected_bat_perc)\n",
    "    def test_ram_percentile(self): #Tests ram_percentile() function\n",
    "        expected_ram_perc = \"This phone has higher RAM than 19.9% of phones in your dataset.\" #Expected output\n",
    "        self.assertEqual(self.phone1.ram_percentile(), expected_ram_perc)\n",
    "    def test_ram_percentile2(self): #Tests ram_percentile() function when no RAM is entered by user\n",
    "        expected_ram_perc2 = \"This phone has higher RAM than 0.0% of phones in your dataset.\" #Expected output\n",
    "        self.assertEqual(self.phone2.ram_percentile(), expected_ram_perc2)\n",
    " \n",
    "unittest.main(argv=[''], verbosity = 2, exit=False)\n",
    "#if __name__ == '__main__':\n",
    "#    unittest.main()    \n",
    "\n",
    "#All tests pass"
   ]
  },
  {
   "cell_type": "code",
   "execution_count": 27,
   "metadata": {},
   "outputs": [
    {
     "name": "stdout",
     "output_type": "stream",
     "text": [
      "This phone is the Samsung Galaxy Note 4, made in 2014.\n",
      "This phone has higher battery power than 100.0% of phones in your dataset.\n",
      "This phone has higher RAM than 73.8% of phones in your dataset.\n"
     ]
    }
   ],
   "source": [
    "#Example phone to demonstrate phone class and related methods\n",
    "phone_example = phone(\"Samsung Galaxy Note 4\", 2014, mobile, battery_power = 3220, ram = 3000)\n",
    "print(phone_example.identity())\n",
    "print(phone_example.battery_percentile())\n",
    "print(phone_example.ram_percentile())"
   ]
  }
 ],
 "metadata": {
  "kernelspec": {
   "display_name": "Python 3",
   "language": "python",
   "name": "python3"
  },
  "language_info": {
   "codemirror_mode": {
    "name": "ipython",
    "version": 3
   },
   "file_extension": ".py",
   "mimetype": "text/x-python",
   "name": "python",
   "nbconvert_exporter": "python",
   "pygments_lexer": "ipython3",
   "version": "3.8.5"
  }
 },
 "nbformat": 4,
 "nbformat_minor": 4
}
